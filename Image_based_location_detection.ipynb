{
  "nbformat": 4,
  "nbformat_minor": 0,
  "metadata": {
    "colab": {
      "name": "Image based location detection.ipynb",
      "provenance": [],
      "authorship_tag": "ABX9TyO1VjaZy7zqUCzn+tdj37Nt",
      "include_colab_link": true
    },
    "kernelspec": {
      "name": "python3",
      "display_name": "Python 3"
    },
    "language_info": {
      "name": "python"
    }
  },
  "cells": [
    {
      "cell_type": "markdown",
      "metadata": {
        "id": "view-in-github",
        "colab_type": "text"
      },
      "source": [
        "<a href=\"https://colab.research.google.com/github/aayushkumar20/ML-based-projects./blob/main/Google%20API%20based/Image_based_location_detection.ipynb\" target=\"_parent\"><img src=\"https://colab.research.google.com/assets/colab-badge.svg\" alt=\"Open In Colab\"/></a>"
      ]
    },
    {
      "cell_type": "code",
      "execution_count": null,
      "metadata": {
        "id": "7tPR_DGwRILL"
      },
      "outputs": [],
      "source": [
        "#Install this first for complete functioning\n",
        "!pip install -q gradio\n",
        "#!pip install \"tf-nightly\" \n",
        "#There might be some issue with the older version of Tensorflow \n",
        "#If the interpreter shows some error then please try to install (!pip install \"tf-nightly\") and re interprete it.\n",
        "#Like \"module 'tensorflow_hub' has no attribute 'KerasLayer'\""
      ]
    },
    {
      "cell_type": "code",
      "source": [
        "# Modules required for the complition\n",
        "# Importing the modules\n",
        "\n",
        "import numpy as np\n",
        "import pandas as pd\n",
        "import matplotlib.pylab as plt\n",
        "import gradio as gr\n",
        "import PIL.Image as Image\n",
        "import tensorflow as tf\n",
        "import tensorflow_hub as hub"
      ],
      "metadata": {
        "id": "RMN-N0OMR1-V"
      },
      "execution_count": 39,
      "outputs": []
    },
    {
      "cell_type": "markdown",
      "source": [
        "**Make sure to install all the modules and 'gradio modules' before interpreting.**"
      ],
      "metadata": {
        "id": "4nL5vTLoSpgV"
      }
    },
    {
      "cell_type": "code",
      "source": [
        "TF_MODEL_URL = 'https://tfhub.dev/google/on_device_vision/classifier/landmarks_classifier_asia_V1/1'\n",
        "LABEL_MAP_URL = 'https://www.gstatic.com/aihub/tfhub/labelmaps/landmarks_classifier_asia_V1_label_map.csv'\n",
        "IMAGE_SHAPE = (321, 321)"
      ],
      "metadata": {
        "id": "I81xceoySnvk"
      },
      "execution_count": 50,
      "outputs": []
    },
    {
      "cell_type": "code",
      "source": [
        "classifier = tf.keras.Sequential([hub.KerasLayer(TF_MODEL_URL,\n",
        "                                                 input_shape=IMAGE_SHAPE+(3,),\n",
        "                                                 output_key=\"predictions:logits\")])"
      ],
      "metadata": {
        "id": "EOAJcws3TEvD",
        "outputId": "552440f6-8756-4f74-9d11-516f68c96938",
        "colab": {
          "base_uri": "https://localhost:8080/"
        }
      },
      "execution_count": 51,
      "outputs": [
        {
          "output_type": "stream",
          "name": "stdout",
          "text": [
            "INFO:tensorflow:Saver not created because there are no variables in the graph to restore\n"
          ]
        },
        {
          "output_type": "stream",
          "name": "stderr",
          "text": [
            "INFO:tensorflow:Saver not created because there are no variables in the graph to restore\n"
          ]
        }
      ]
    },
    {
      "cell_type": "code",
      "source": [
        "df = pd.read_csv(LABEL_MAP_URL)"
      ],
      "metadata": {
        "id": "jMVLV4SOTKev"
      },
      "execution_count": 57,
      "outputs": []
    },
    {
      "cell_type": "code",
      "source": [
        "label_map = dict(zip(df.id, df.name))"
      ],
      "metadata": {
        "id": "tuOyIPDDTRsw"
      },
      "execution_count": 58,
      "outputs": []
    },
    {
      "cell_type": "code",
      "source": [
        "img_loc = \"Image.jpeg\" #Please change this to the location of your image including directory.\n",
        "#In case you are using it on your windows machine please mention the entire path.\n",
        "#Please make sure you have the same name of image as above i.e.(Image.jpeg) you can rename it as your choice.\n",
        "#In case you are using it on \"google colab\" then please make sure that you have mounted the image file and also the mounting location with file name."
      ],
      "metadata": {
        "id": "95nxijsATXxD"
      },
      "execution_count": 59,
      "outputs": []
    },
    {
      "cell_type": "code",
      "source": [
        "img=Image.open(img_loc).resize(IMAGE_SHAPE)"
      ],
      "metadata": {
        "id": "fDjcQJpiTmDl"
      },
      "execution_count": 60,
      "outputs": []
    },
    {
      "cell_type": "markdown",
      "source": [
        "**in order to check whether your image is sucessfully added you can type (img)**"
      ],
      "metadata": {
        "id": "eWFHk9rSWAd6"
      }
    },
    {
      "cell_type": "code",
      "source": [
        "img\n",
        "#to check\n",
        "#if not detected the please try to follow the instruction in the above 2 lines."
      ],
      "metadata": {
        "id": "Wco7WxGLWPPD"
      },
      "execution_count": null,
      "outputs": []
    },
    {
      "cell_type": "code",
      "source": [
        "img = np.array(img)/255.0\n",
        "img.shape"
      ],
      "metadata": {
        "id": "rne_u1LcWSCl",
        "outputId": "5e03fcad-5c71-42e1-ec6e-0b49dcf0cc2b",
        "colab": {
          "base_uri": "https://localhost:8080/"
        }
      },
      "execution_count": 62,
      "outputs": [
        {
          "output_type": "execute_result",
          "data": {
            "text/plain": [
              "(321, 321, 3)"
            ]
          },
          "metadata": {},
          "execution_count": 62
        }
      ]
    },
    {
      "cell_type": "code",
      "source": [
        "img = img[np.newaxis, ...]"
      ],
      "metadata": {
        "id": "Pzt5W-UlWybh"
      },
      "execution_count": 63,
      "outputs": []
    },
    {
      "cell_type": "code",
      "source": [
        "img.shape"
      ],
      "metadata": {
        "id": "ALeZczOtepVS",
        "outputId": "041622ca-f5b1-4635-f042-a460966efcd3",
        "colab": {
          "base_uri": "https://localhost:8080/"
        }
      },
      "execution_count": 64,
      "outputs": [
        {
          "output_type": "execute_result",
          "data": {
            "text/plain": [
              "(1, 321, 321, 3)"
            ]
          },
          "metadata": {},
          "execution_count": 64
        }
      ]
    },
    {
      "cell_type": "code",
      "source": [
        "result = classifier.predict(img)"
      ],
      "metadata": {
        "id": "ipBGOUtxWzhm"
      },
      "execution_count": 65,
      "outputs": []
    },
    {
      "cell_type": "code",
      "source": [
        "result\n",
        "#it'll contain the probablity values and length of the model."
      ],
      "metadata": {
        "id": "MUydFKWRW6ol"
      },
      "execution_count": null,
      "outputs": []
    },
    {
      "cell_type": "code",
      "source": [
        "label_map[np.argmax(result)]\n",
        "#it'll predict the location by using the \"classifier.predict\""
      ],
      "metadata": {
        "id": "L_fm3c-FW9XC"
      },
      "execution_count": null,
      "outputs": []
    },
    {
      "cell_type": "code",
      "source": [
        "class_names=list(label_map.values())"
      ],
      "metadata": {
        "id": "RxZRN7rtXUtO"
      },
      "execution_count": 68,
      "outputs": []
    },
    {
      "cell_type": "code",
      "source": [
        "def classify_image(image):\n",
        "    img = np.array(image)/255.0\n",
        "    img = img[np.newaxis, ...]\n",
        "    prediction = classifier.predict(img)\n",
        "    return label_map[np.argmax(prediction)]"
      ],
      "metadata": {
        "id": "S_gD-MHHX30f"
      },
      "execution_count": 69,
      "outputs": []
    },
    {
      "cell_type": "markdown",
      "source": [
        "**UI for user interaction**"
      ],
      "metadata": {
        "id": "7mPYRcCFYO5F"
      }
    },
    {
      "cell_type": "code",
      "source": [
        "image = gr.inputs.Image(shape=(321, 321))\n",
        "label = gr.outputs.Label(num_top_classes=1)"
      ],
      "metadata": {
        "id": "KwhrLTRRYlmf"
      },
      "execution_count": 72,
      "outputs": []
    },
    {
      "cell_type": "code",
      "source": [
        "gr.Interface(\n",
        "    classify_image,\n",
        "    image,\n",
        "    label,\n",
        "    capture_session=True,).launch(debug=True);"
      ],
      "metadata": {
        "id": "FIOkM3drYLjw",
        "outputId": "935cd20c-ebd4-4435-c8f9-c1e51d268510",
        "colab": {
          "base_uri": "https://localhost:8080/",
          "height": 643
        }
      },
      "execution_count": null,
      "outputs": [
        {
          "output_type": "stream",
          "name": "stderr",
          "text": [
            "/usr/local/lib/python3.7/dist-packages/gradio/interface.py:188: UserWarning: The `capture_session` parameter in the `Interface` is deprecated and has no effect.\n",
            "  warnings.warn(\"The `capture_session` parameter in the `Interface` is deprecated and has no effect.\")\n"
          ]
        },
        {
          "output_type": "stream",
          "name": "stdout",
          "text": [
            "Colab notebook detected. This cell will run indefinitely so that you can see errors and logs. To turn off, set debug=False in launch().\n",
            "Running on public URL: https://18885.gradio.app\n",
            "\n",
            "This share link expires in 72 hours. For free permanent hosting, check out Spaces (https://huggingface.co/spaces)\n"
          ]
        },
        {
          "output_type": "display_data",
          "data": {
            "text/html": [
              "\n",
              "        <iframe\n",
              "            width=\"900\"\n",
              "            height=\"500\"\n",
              "            src=\"https://18885.gradio.app\"\n",
              "            frameborder=\"0\"\n",
              "            allowfullscreen\n",
              "        ></iframe>\n",
              "        "
            ],
            "text/plain": [
              "<IPython.lib.display.IFrame at 0x7fa442396910>"
            ]
          },
          "metadata": {}
        }
      ]
    }
  ]
}